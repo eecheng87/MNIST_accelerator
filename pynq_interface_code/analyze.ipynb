{
 "cells": [
  {
   "cell_type": "code",
   "execution_count": 1,
   "metadata": {},
   "outputs": [
    {
     "data": {
      "application/javascript": [
       "\n",
       "require(['notebook/js/codecell'], function(codecell) {\n",
       "  codecell.CodeCell.options_default.highlight_modes[\n",
       "      'magic_text/x-csrc'] = {'reg':[/^%%microblaze/]};\n",
       "  Jupyter.notebook.events.one('kernel_ready.Kernel', function(){\n",
       "      Jupyter.notebook.get_cells().map(function(cell){\n",
       "          if (cell.cell_type == 'code'){ cell.auto_highlight(); } }) ;\n",
       "  });\n",
       "});\n"
      ]
     },
     "metadata": {},
     "output_type": "display_data"
    },
    {
     "name": "stderr",
     "output_type": "stream",
     "text": [
      "/usr/local/lib/python3.6/dist-packages/pynq/pl_server/device.py:594: UserWarning: Users will not get PARAMETERS / REGISTERS information through TCL files. HWH file is recommended.\n",
      "  warnings.warn(message, UserWarning)\n",
      "/usr/local/lib/python3.6/dist-packages/pynq/pl_server/device.py:594: UserWarning: Users will not get PARAMETERS / REGISTERS information through TCL files. HWH file is recommended.\n",
      "  warnings.warn(message, UserWarning)\n"
     ]
    }
   ],
   "source": [
    "%run mnist_performance.ipynb"
   ]
  },
  {
   "cell_type": "code",
   "execution_count": 10,
   "metadata": {},
   "outputs": [
    {
     "name": "stderr",
     "output_type": "stream",
     "text": [
      "/usr/local/lib/python3.6/dist-packages/pynq/pl_server/device.py:594: UserWarning: Users will not get PARAMETERS / REGISTERS information through TCL files. HWH file is recommended.\n",
      "  warnings.warn(message, UserWarning)\n"
     ]
    },
    {
     "name": "stdout",
     "output_type": "stream",
     "text": [
      "Probability of  0 is : 0.00482\n",
      "Probability of  1 is : 0.00000\n",
      "Probability of  2 is : 0.00103\n",
      "Probability of  3 is : 0.00000\n",
      "Probability of  4 is : 0.00000\n",
      "Probability of  5 is : 0.99247\n",
      "Probability of  6 is : 0.00129\n",
      "Probability of  7 is : 0.00000\n",
      "Probability of  8 is : 0.00038\n",
      "Probability of  9 is : 0.00000\n",
      "5\n",
      "Probability of  0 is : 0.00482\n",
      "Probability of  1 is : 0.00000\n",
      "Probability of  2 is : 0.00103\n",
      "Probability of  3 is : 0.00000\n",
      "Probability of  4 is : 0.00000\n",
      "Probability of  5 is : 0.99247\n",
      "Probability of  6 is : 0.00129\n",
      "Probability of  7 is : 0.00000\n",
      "Probability of  8 is : 0.00038\n",
      "Probability of  9 is : 0.00000\n",
      "5\n"
     ]
    }
   ],
   "source": [
    "design = Overlay('./mnist_cnn.bit')\n",
    "\n",
    "cdma_address = design.ip_dict['axi_cdma_0']['phys_addr']\n",
    "axi_gpio_address = design.ip_dict['axi_gpio_0']['phys_addr']\n",
    "\n",
    "\n",
    "zynq_addr = 0x30000000\n",
    "cdma_ctrl = cdma_address+0x00\n",
    "cdma_sa = cdma_address+0x18\n",
    "cdma_da = cdma_address+0x20\n",
    "cdma_btt = cdma_address+0x28\n",
    "\n",
    "bram0_addr = 0xC0000000\n",
    "bram1_addr = 0xC2000000\n",
    "bram2_addr = 0xC4000000\n",
    "\n",
    "\n",
    "zynq_sys = MMIO(zynq_addr,0x1500)\n",
    "zynq_ans1 = MMIO(zynq_addr,0x4)\n",
    "zynq_ans2 = MMIO(zynq_addr+4,0x4)\n",
    "print(MNIST_OPERATION('../test_data_x/test_data_x_10.txt'))\n",
    "print(MNIST_OPERATION('../t0_1.txt'))"
   ]
  },
  {
   "cell_type": "code",
   "execution_count": null,
   "metadata": {},
   "outputs": [],
   "source": []
  },
  {
   "cell_type": "code",
   "execution_count": null,
   "metadata": {},
   "outputs": [],
   "source": []
  }
 ],
 "metadata": {
  "kernelspec": {
   "display_name": "Python 3",
   "language": "python",
   "name": "python3"
  },
  "language_info": {
   "codemirror_mode": {
    "name": "ipython",
    "version": 3
   },
   "file_extension": ".py",
   "mimetype": "text/x-python",
   "name": "python",
   "nbconvert_exporter": "python",
   "pygments_lexer": "ipython3",
   "version": "3.6.5"
  }
 },
 "nbformat": 4,
 "nbformat_minor": 2
}
