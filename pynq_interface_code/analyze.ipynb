{
 "cells": [
  {
   "cell_type": "code",
   "execution_count": 1,
   "metadata": {},
   "outputs": [
    {
     "data": {
      "application/javascript": [
       "\n",
       "require(['notebook/js/codecell'], function(codecell) {\n",
       "  codecell.CodeCell.options_default.highlight_modes[\n",
       "      'magic_text/x-csrc'] = {'reg':[/^%%microblaze/]};\n",
       "  Jupyter.notebook.events.one('kernel_ready.Kernel', function(){\n",
       "      Jupyter.notebook.get_cells().map(function(cell){\n",
       "          if (cell.cell_type == 'code'){ cell.auto_highlight(); } }) ;\n",
       "  });\n",
       "});\n"
      ]
     },
     "metadata": {},
     "output_type": "display_data"
    }
   ],
   "source": [
    "%run mnist_performance.ipynb"
   ]
  },
  {
   "cell_type": "code",
   "execution_count": 2,
   "metadata": {},
   "outputs": [],
   "source": [
    "def GETANSWER(path):\n",
    "# '../test_data_y/test_data_y_0.txt'\n",
    "    fp = open(path, \"r\")\n",
    "    ans = 0\n",
    "    line = fp.readline()\n",
    "    while line:\n",
    "        cur = int(float(line))\n",
    "        if cur == 1:\n",
    "            break\n",
    "        ans += 1\n",
    "        line = fp.readline()\n",
    "    fp.close()\n",
    "    return ans"
   ]
  },
  {
   "cell_type": "code",
   "execution_count": 11,
   "metadata": {},
   "outputs": [
    {
     "name": "stdout",
     "output_type": "stream",
     "text": [
      "----------Start Calculation----------\n"
     ]
    },
    {
     "name": "stderr",
     "output_type": "stream",
     "text": [
      "/usr/local/lib/python3.6/dist-packages/pynq/pl_server/device.py:594: UserWarning: Users will not get PARAMETERS / REGISTERS information through TCL files. HWH file is recommended.\n",
      "  warnings.warn(message, UserWarning)\n"
     ]
    },
    {
     "name": "stdout",
     "output_type": "stream",
     "text": [
      "\n",
      "----------Calculate case 0 ----------\n",
      "Probability of  0 is : 0.10740\n",
      "Probability of  1 is : 0.00000\n",
      "Probability of  2 is : 0.00001\n",
      "Probability of  3 is : 0.00006\n",
      "Probability of  4 is : 0.00000\n",
      "Probability of  5 is : 0.00702\n",
      "Probability of  6 is : 0.00000\n",
      "Probability of  7 is : 0.88497\n",
      "Probability of  8 is : 0.00001\n",
      "Probability of  9 is : 0.00051\n",
      "Pass test case 0\n",
      "\n",
      "\n",
      "----------Calculate case 1 ----------\n",
      "Probability of  0 is : 0.00000\n",
      "Probability of  1 is : 0.00025\n",
      "Probability of  2 is : 0.99975\n",
      "Probability of  3 is : 0.00000\n",
      "Probability of  4 is : 0.00000\n",
      "Probability of  5 is : 0.00000\n",
      "Probability of  6 is : 0.00000\n",
      "Probability of  7 is : 0.00000\n",
      "Probability of  8 is : 0.00000\n",
      "Probability of  9 is : 0.00000\n",
      "Pass test case 1\n",
      "\n",
      "----------Calculation Complete----------\n",
      "\n",
      "\n",
      "\n",
      "=================Result=================\n",
      "\n",
      "--------Correct rate is 100.0 %.--------\n",
      "\n",
      "========================================\n"
     ]
    }
   ],
   "source": [
    "time = 2\n",
    "err = 0\n",
    "print('----------Start Calculation----------')\n",
    "for i in range(time):\n",
    "    design = Overlay('./mnist_cnn.bit')\n",
    "    cdma_address = design.ip_dict['axi_cdma_0']['phys_addr']\n",
    "    axi_gpio_address = design.ip_dict['axi_gpio_0']['phys_addr']\n",
    "    zynq_addr = 0x30000000\n",
    "    cdma_ctrl = cdma_address+0x00\n",
    "    cdma_sa = cdma_address+0x18\n",
    "    cdma_da = cdma_address+0x20\n",
    "    cdma_btt = cdma_address+0x28\n",
    "    bram0_addr = 0xC0000000\n",
    "    bram1_addr = 0xC2000000\n",
    "    bram2_addr = 0xC4000000\n",
    "    zynq_sys = MMIO(zynq_addr,0x1500)\n",
    "    zynq_ans1 = MMIO(zynq_addr,0x4)\n",
    "    zynq_ans2 = MMIO(zynq_addr+4,0x4)\n",
    "    print('\\n----------Calculate case',i,'----------')\n",
    "    if MNIST_OPERATION('../x/test_data_x_'+str(i)+'.txt') == GETANSWER('../y/test_data_y_'+str(i)+'.txt'):\n",
    "        print('Pass test case ' + str(i)+'\\n');\n",
    "    else:\n",
    "        print('Fail in case ' + str(i)+'\\n');\n",
    "        err += 1\n",
    "    #print(MNIST_OPERATION('../test_data_x/test_data_x_'+str(i)+'.txt'))\n",
    "    #print(GETANSWER('../test_data_y/test_data_y_'+str(i)+'.txt'))\n",
    "print('----------Calculation Complete----------\\n\\n\\n')\n",
    "print('=================Result=================\\n')\n",
    "print('--------Correct rate is',(1-err/time)*100,'%.--------\\n')\n",
    "print('========================================')"
   ]
  },
  {
   "cell_type": "code",
   "execution_count": null,
   "metadata": {},
   "outputs": [],
   "source": []
  }
 ],
 "metadata": {
  "kernelspec": {
   "display_name": "Python 3",
   "language": "python",
   "name": "python3"
  },
  "language_info": {
   "codemirror_mode": {
    "name": "ipython",
    "version": 3
   },
   "file_extension": ".py",
   "mimetype": "text/x-python",
   "name": "python",
   "nbconvert_exporter": "python",
   "pygments_lexer": "ipython3",
   "version": "3.6.5"
  }
 },
 "nbformat": 4,
 "nbformat_minor": 2
}
