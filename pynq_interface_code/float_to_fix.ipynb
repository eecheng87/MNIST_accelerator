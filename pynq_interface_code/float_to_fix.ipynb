{
 "cells": [
  {
   "cell_type": "code",
   "execution_count": 8,
   "metadata": {},
   "outputs": [],
   "source": [
    "def float_to_hex(flo):\n",
    "    mp = {'0000':'0',\n",
    "          '0001':'1',\n",
    "          '0010':'2',\n",
    "          '0011':'3',\n",
    "          '0100':'4',\n",
    "          '0101':'5',\n",
    "          '0110':'6',\n",
    "          '0111':'7',\n",
    "          '1000':'8',\n",
    "          '1001':'9',\n",
    "          '1010':'A',\n",
    "          '1011':'B',\n",
    "          '1100':'C',\n",
    "          '1101':'D',\n",
    "          '1110':'E',\n",
    "          '1111':'F',\n",
    "         }\n",
    "    flo = flo -  flo%(2**-4)\n",
    "    ans = ''\n",
    "    for i in range(3,-5,-1):\n",
    "        if flo >= 2**i:\n",
    "            flo -= 2**i\n",
    "            ans += '1'\n",
    "        else:\n",
    "            ans += '0'\n",
    "        # print(i)\n",
    "    return mp[ans[0:4]]+mp[ans[4:8]]"
   ]
  },
  {
   "cell_type": "code",
   "execution_count": 10,
   "metadata": {},
   "outputs": [
    {
     "name": "stdout",
     "output_type": "stream",
     "text": [
      "0B\n"
     ]
    }
   ],
   "source": [
    "print(float_to_hex(0.7254902))"
   ]
  }
 ],
 "metadata": {
  "kernelspec": {
   "display_name": "Python 3",
   "language": "python",
   "name": "python3"
  },
  "language_info": {
   "codemirror_mode": {
    "name": "ipython",
    "version": 3
   },
   "file_extension": ".py",
   "mimetype": "text/x-python",
   "name": "python",
   "nbconvert_exporter": "python",
   "pygments_lexer": "ipython3",
   "version": "3.6.5"
  }
 },
 "nbformat": 4,
 "nbformat_minor": 2
}
